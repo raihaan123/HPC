{
 "cells": [
  {
   "cell_type": "code",
   "execution_count": null,
   "metadata": {},
   "outputs": [],
   "source": [
    "# Import output.txt --> format: [x y u v] for each point\n",
    "# Plot u for all gridpoints\n",
    "\n",
    "from matplotlib import pyplot as plt\n",
    "import numpy as np\n",
    "import sys\n",
    "\n",
    "\n",
    "data = np.loadtxt('output.txt')\n",
    "x = data[:,0]\n",
    "y = data[:,1]\n",
    "u = data[:,2]\n",
    "\n",
    "# Nx = 251\n",
    "# Ny = 251\n",
    "\n",
    "Nx = 101\n",
    "Ny = 101\n",
    "\n",
    "# Nx = 81\n",
    "# Ny = 151\n",
    "\n",
    "# Assemble U into a matrix over the grid - u is stored row-major\n",
    "U = np.zeros((Nx,Ny))\n",
    "for i in range(Nx):\n",
    "    for j in range(Ny):\n",
    "        U[i,j] = u[i*Ny + j]\n",
    "\n",
    "\n",
    "\n",
    "\n",
    "# Plot heatmap - size of figure is 10x10\n",
    "plt.figure(figsize=(10,10))\n",
    "plt.imshow(U, cmap='hot', interpolation='nearest')\n",
    "plt.colorbar()\n",
    "plt.show()\n"
   ]
  }
 ],
 "metadata": {
  "interpreter": {
   "hash": "31f2aee4e71d21fbe5cf8b01ff0e069b9275f58929596ceb00d14d90e3e16cd6"
  },
  "kernelspec": {
   "display_name": "Python 3.9.2 64-bit",
   "language": "python",
   "name": "python3"
  },
  "language_info": {
   "name": "python",
   "version": "3.7.3"
  },
  "orig_nbformat": 4
 },
 "nbformat": 4,
 "nbformat_minor": 2
}

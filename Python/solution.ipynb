{
 "cells": [
  {
   "cell_type": "markdown",
   "metadata": {},
   "source": [
    "# High Performance Computing - Coursework (Python Implementation)\n",
    "##### Raihaan Usman - AE3"
   ]
  },
  {
   "cell_type": "markdown",
   "metadata": {},
   "source": [
    "> The objective of this coursework assignment is to write a parallel numerical code to solve a 2D reaction-diffusion problem, paying particular attention to computational performance. These types of partial differential equations (PDE) appear in many areas of science including predator-prey scenarios, models of biological systems, excitable media and chemical reactions, etc. They can be quite computationally expensive to solve if the model is stiff (i.e. there are phenomena covering a wide range of timescales), so performance optimisation and parallelisation are important.\n",
    "\n",
    "The brief sure sounds fun - Let's get started!\n",
    "\n",
    "(P.S. - I'm using Python to prototype the code so I know I've implemented it correctly. I'm not a Python expert, so please don't judge me :)"
   ]
  },
  {
   "cell_type": "markdown",
   "metadata": {},
   "source": [
    "## 1. Problem Definition"
   ]
  },
  {
   "cell_type": "code",
   "execution_count": 35,
   "metadata": {},
   "outputs": [],
   "source": [
    "# Mandatory imports :)\n",
    "\n",
    "import numpy as np\n",
    "import scipy as sp\n",
    "import multiprocessing as mp\n",
    "from matplotlib import pyplot as plt\n",
    "\n",
    "from solver import ReactionDiffusion"
   ]
  },
  {
   "cell_type": "markdown",
   "metadata": {},
   "source": [
    "The system of PDEs in question are apparently a variant of the Barkley model and are given by-"
   ]
  },
  {
   "cell_type": "markdown",
   "metadata": {},
   "source": [
    "\\begin{aligned}\n",
    "&\\frac{\\partial u}{\\partial t}-\\mu_{1} \\nabla^{2} u=f_{1}(u, v) \\\\\\\\\n",
    "&\\frac{\\partial v}{\\partial t}-\\mu_{2} \\nabla^{2} v=f_{2}(u, v)\n",
    "\\end{aligned}"
   ]
  },
  {
   "cell_type": "markdown",
   "metadata": {},
   "source": [
    "where $u_1$ and $u_2$ are coefficients of diffusion, $\\mu_{1}$ and $\\mu_{2}$ are the reaction rates, and $f_{1}$ and $f_{2}$ are the reaction terms-"
   ]
  },
  {
   "cell_type": "markdown",
   "metadata": {},
   "source": [
    "\\begin{aligned}\n",
    "&f_{1}(u, v)=\\epsilon u(1-u)\\left(u-\\frac{(v+b)}{a}\\right) \\\\\n",
    "&f_{2}(u, v)=u^{3}-v\n",
    "\\end{aligned}"
   ]
  },
  {
   "cell_type": "code",
   "execution_count": 36,
   "metadata": {},
   "outputs": [],
   "source": [
    "# Defining the reaction functions\n",
    "def _f1(u, v, epsilon, a, b): \n",
    "    return epsilon * u * (1-u) * (u - (v+b)/a)\n",
    "\n",
    "\n",
    "def _f2(u, v):\n",
    "    return u**3 - v"
   ]
  },
  {
   "cell_type": "markdown",
   "metadata": {},
   "source": [
    "The specific PDE parameters are $\\mu_1, \\mu_2, a, b, \\epsilon$ and the initial conditions are $u_1(x, y)$ and $u_2(x, y)$."
   ]
  },
  {
   "cell_type": "code",
   "execution_count": 37,
   "metadata": {},
   "outputs": [],
   "source": [
    "# Defaults for the system\n",
    "a       = 0.75\n",
    "b       = 0.06\n",
    "mu1     = 5.0\n",
    "mu2     = 0.0\n",
    "epsilon = 50"
   ]
  },
  {
   "cell_type": "markdown",
   "metadata": {},
   "source": [
    "To solve this problem, we're asked to implement forward Euler time marching. So additionally, spatial and temporal discretisation are required. The temporal derivatives are computed by a first-order finite difference scheme, and the Laplacians over the cartesian space are computed using a second-order finite difference scheme."
   ]
  },
  {
   "cell_type": "markdown",
   "metadata": {},
   "source": [
    "\\begin{aligned}\n",
    "\\frac{u_{i, j}^{n+1}-u_{i, j}^{n}}{\\Delta t} &=\\frac{\\mu_{1}}{h^{2}}\\left(u_{i+1, j}^{n}+u_{i-1, j}^{n}+u_{i, j+1}^{n}+u_{i, j-1}^{n}-4 u_{i, j}^{n}\\right)+f_{1}\\left(u_{i, j}^{n}, v_{i, j}^{n}\\right) \\\\\\\\\n",
    "\\frac{v_{i, j}^{n+1}-v_{i, j}^{n}}{\\Delta t} &=\\frac{\\mu_{2}}{h^{2}}\\left(v_{i+1, j}^{n}+v_{i-1, j}^{n}+v_{i, j+1}^{n}+v_{i, j-1}^{n}-4 v_{i, j}^{n}\\right)+f_{2}\\left(u_{i, j}^{n}, v_{i, j}^{n}\\right) .\n",
    "\\end{aligned}"
   ]
  },
  {
   "cell_type": "markdown",
   "metadata": {},
   "source": [
    "So additionally, the PDE must be discretised in space and time - therefore $dx$, $dy$ ($h^2 = dx \\cdot dy$) and $dt$ need to be defined, along with $N_x$, $N_y$ and $T$ - the number of discrete nodes in x and y, and the total integration time-"
   ]
  },
  {
   "cell_type": "code",
   "execution_count": 38,
   "metadata": {},
   "outputs": [
    {
     "name": "stdout",
     "output_type": "stream",
     "text": [
      "\n",
      "X = \n",
      "[ 0  1  2  3  4  5  6  7  8  9 10] --> Shape = (11,), \n",
      "\n",
      "Y = \n",
      "[ 0  1  2  3  4  5  6  7  8  9 10] --> Shape = (11,), \n",
      "\n",
      "T = \n",
      "[0.000e+00 1.000e-03 2.000e-03 ... 9.998e+00 9.999e+00 1.000e+01] --> Shape = (10001,)\n"
     ]
    }
   ],
   "source": [
    "# Discretization parameters\n",
    "dx      = 1\n",
    "dy      = 1\n",
    "Nx      = 11\n",
    "Ny      = 11\n",
    "dt      = 1e-3\n",
    "T       = 10\n",
    "\n",
    "# Initialise the X, Y and T discrete arrays\n",
    "X = np.arange(0, Nx, dx)\n",
    "Y = np.arange(0, Ny, dy)\n",
    "T = np.arange(0, T+dt, dt)\n",
    "\n",
    "print(f\"\\n\\\n",
    "X = \\n{X} --> Shape = {X.shape}, \\n\\n\\\n",
    "Y = \\n{Y} --> Shape = {Y.shape}, \\n\\n\\\n",
    "T = \\n{T} --> Shape = {T.shape}\")"
   ]
  },
  {
   "cell_type": "markdown",
   "metadata": {},
   "source": [
    "## 2. Initial and Boundary Conditions"
   ]
  },
  {
   "cell_type": "markdown",
   "metadata": {},
   "source": [
    "Initial conditions are simple enough - for $y > L_y/2 \\rightarrow u = 1$ and 0 otherwise. For $x < L_x/2 \\rightarrow v = a/2$ and 0 otherwise. \n",
    "\n",
    "Note that $L_x$ and $L_y$ are the lengths of the domain in the x and y directions - $N_x * dx$ and $N_y * dy$ respectively."
   ]
  },
  {
   "cell_type": "code",
   "execution_count": 40,
   "metadata": {},
   "outputs": [
    {
     "name": "stdout",
     "output_type": "stream",
     "text": [
      "\n",
      "Initial U = \n",
      "[[0 0 0 0 0 0 0 0 0 0 0]\n",
      " [0 0 0 0 0 0 0 0 0 0 0]\n",
      " [0 0 0 0 0 0 0 0 0 0 0]\n",
      " [0 0 0 0 0 0 0 0 0 0 0]\n",
      " [0 0 0 0 0 0 0 0 0 0 0]\n",
      " [0 0 0 0 0 0 0 0 0 0 0]\n",
      " [1 1 1 1 1 1 1 1 1 1 1]\n",
      " [1 1 1 1 1 1 1 1 1 1 1]\n",
      " [1 1 1 1 1 1 1 1 1 1 1]\n",
      " [1 1 1 1 1 1 1 1 1 1 1]\n",
      " [1 1 1 1 1 1 1 1 1 1 1]] \n",
      "\n",
      "Initial V = \n",
      "[[0.375 0.375 0.375 0.375 0.375 0.375 0.    0.    0.    0.    0.   ]\n",
      " [0.375 0.375 0.375 0.375 0.375 0.375 0.    0.    0.    0.    0.   ]\n",
      " [0.375 0.375 0.375 0.375 0.375 0.375 0.    0.    0.    0.    0.   ]\n",
      " [0.375 0.375 0.375 0.375 0.375 0.375 0.    0.    0.    0.    0.   ]\n",
      " [0.375 0.375 0.375 0.375 0.375 0.375 0.    0.    0.    0.    0.   ]\n",
      " [0.375 0.375 0.375 0.375 0.375 0.375 0.    0.    0.    0.    0.   ]\n",
      " [0.375 0.375 0.375 0.375 0.375 0.375 0.    0.    0.    0.    0.   ]\n",
      " [0.375 0.375 0.375 0.375 0.375 0.375 0.    0.    0.    0.    0.   ]\n",
      " [0.375 0.375 0.375 0.375 0.375 0.375 0.    0.    0.    0.    0.   ]\n",
      " [0.375 0.375 0.375 0.375 0.375 0.375 0.    0.    0.    0.    0.   ]\n",
      " [0.375 0.375 0.375 0.375 0.375 0.375 0.    0.    0.    0.    0.   ]]\n"
     ]
    }
   ],
   "source": [
    "# Initialising U and V - in Python, we can use the np.where() function to query the x and y arrays\n",
    "U = np.where(Y > Ny*dy/2, 1, 0)\n",
    "U = np.tile(U, (Nx, 1))\n",
    "U = U.T\n",
    "\n",
    "V = np.where(X < Nx*dx/2, a/2, 0)\n",
    "V = np.tile(V, (Ny, 1))\n",
    "\n",
    "# Note that the indicies correspond to the x and y coordinates and so the matrices appear flipped about the x axis\n",
    "print(f\"\\n\\\n",
    "Initial U = \\n{U} \\n\\n\\\n",
    "Initial V = \\n{V}\")"
   ]
  },
  {
   "cell_type": "markdown",
   "metadata": {},
   "source": [
    "A Neumann boundary condition is used for both $u$ and $v$ - i.e the normal derivatives of the PDE system are zero at the boundaries - e.g at $x = 0$, the normal derivatives $\\frac{\\partial{U}}{\\partial{x}}$ and $\\frac{\\partial{V}}{\\partial{x}}$ are zero. In discrete form, this is given by-"
   ]
  },
  {
   "cell_type": "markdown",
   "metadata": {},
   "source": [
    "$\\begin{aligned}\n",
    "\\left(u_{1, j}^{n}-u_{-1, j}^{n}\\right) / h = 0 ; \\quad u_{-1, j}^{n} = u_{0, j}^{n}\\\\\\\\\n",
    "\\therefore \\frac{u_{0, j}^{n+1}-u_{0, j}^{n}}{\\Delta t} = \\frac{\\mu_{1}}{h^{2}}\\left(u_{1, j}^{n}+u_{0, j}^{n}+u_{0, j+1}^{n}+u_{0, j-1}^{n}-2 u_{0, j}^{n}\\right)+f_{1}\\left(u_{0, j}^{n}, v_{i, j}^{n}\\right)\n",
    "\\end{aligned}$\n"
   ]
  },
  {
   "cell_type": "markdown",
   "metadata": {},
   "source": [
    "The same conditions are applied to all 4 boundaries - $x=0, x=L_x, y=0, y=L_y$.\n",
    "\n",
    "Finally, forward Euler time marching is implemented using a simple loop over the time steps-"
   ]
  },
  {
   "cell_type": "markdown",
   "metadata": {},
   "source": [
    "$\\begin{aligned}\n",
    "u_{i,j}^{n+1} = u_{i,j}^{n} + \\frac{u_{i, j}^{n+1}-u_{i, j}^{n}}{\\Delta t} \\cdot dt\n",
    "\\end{aligned}$"
   ]
  },
  {
   "cell_type": "code",
   "execution_count": null,
   "metadata": {},
   "outputs": [],
   "source": []
  }
 ],
 "metadata": {
  "interpreter": {
   "hash": "10aa27e31ec2ae1f1c0f488a4921120dd9fa9c7fa053d0aa12359cc5adfc803f"
  },
  "kernelspec": {
   "display_name": "Python 3.9.7 ('base')",
   "language": "python",
   "name": "python3"
  },
  "language_info": {
   "codemirror_mode": {
    "name": "ipython",
    "version": 3
   },
   "file_extension": ".py",
   "mimetype": "text/x-python",
   "name": "python",
   "nbconvert_exporter": "python",
   "pygments_lexer": "ipython3",
   "version": "3.9.7"
  },
  "orig_nbformat": 4
 },
 "nbformat": 4,
 "nbformat_minor": 2
}

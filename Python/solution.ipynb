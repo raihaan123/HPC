{
 "cells": [
  {
   "cell_type": "markdown",
   "metadata": {},
   "source": [
    "# High Performance Computing - Coursework (Python Implementation)\n",
    "##### Raihaan Usman - AE3"
   ]
  },
  {
   "cell_type": "markdown",
   "metadata": {},
   "source": [
    "> The objective of this coursework assignment is to write a parallel numerical code to solve a 2D reaction-diffusion problem, paying particular attention to computational performance. These types of partial differential equations (PDE) appear in many areas of science including predator-prey scenarios, models of biological systems, excitable media and chemical reactions, etc. They can be quite computationally expensive to solve if the model is stiff (i.e. there are phenomena covering a wide range of timescales), so performance optimisation and parallelisation are important.\n",
    "\n",
    "The brief sure sounds fun - let's get started!\n",
    "\n",
    "(P.S. - I'm using Python to prototype the code so I know I've implemented it correctly. I'm not a Python expert, so please don't judge me :)"
   ]
  },
  {
   "cell_type": "markdown",
   "metadata": {},
   "source": [
    "## 1. Problem Definition"
   ]
  },
  {
   "cell_type": "code",
   "execution_count": 1,
   "metadata": {},
   "outputs": [],
   "source": [
    "# Mandatory imports :)\n",
    "\n",
    "import numpy as np\n",
    "import scipy as sp\n",
    "import multiprocessing as mp\n",
    "from matplotlib import pyplot as plt\n",
    "from numpy.linalg import matrix_power"
   ]
  },
  {
   "cell_type": "markdown",
   "metadata": {},
   "source": [
    "The system of PDEs in question are apparently a variant of the Barkley model and are given by-"
   ]
  },
  {
   "cell_type": "markdown",
   "metadata": {},
   "source": [
    "\\begin{aligned}\n",
    "&\\frac{\\partial u}{\\partial t}-\\mu_{1} \\nabla^{2} u=f_{1}(u, v) \\\\\\\\\n",
    "&\\frac{\\partial v}{\\partial t}-\\mu_{2} \\nabla^{2} v=f_{2}(u, v)\n",
    "\\end{aligned}"
   ]
  },
  {
   "cell_type": "markdown",
   "metadata": {},
   "source": [
    "where $u_1$ and $u_2$ are coefficients of diffusion, $\\mu_{1}$ and $\\mu_{2}$ are the reaction rates, and $f_{1}$ and $f_{2}$ are the reaction terms-"
   ]
  },
  {
   "cell_type": "markdown",
   "metadata": {},
   "source": [
    "\\begin{aligned}\n",
    "&f_{1}(u, v)=\\epsilon u(1-u)\\left(u-\\frac{(v+b)}{a}\\right) \\\\\n",
    "&f_{2}(u, v)=u^{3}-v\n",
    "\\end{aligned}"
   ]
  },
  {
   "cell_type": "code",
   "execution_count": 2,
   "metadata": {},
   "outputs": [],
   "source": [
    "# Defining the reaction functions\n",
    "def _f1(u, v, epsilon, a, b):\n",
    "    return epsilon * u * (1-u) * (u - (v+b)/a)\n",
    "\n",
    "def _f2(u, v):\n",
    "    return u**3 - v"
   ]
  },
  {
   "cell_type": "markdown",
   "metadata": {},
   "source": [
    "The specific PDE parameters are $\\mu_1, \\mu_2, a, b, \\epsilon$ and the initial conditions are $u_1(x, y)$ and $u_2(x, y)$. \n",
    "\n",
    "To solve this problem, we're asked to implement forward Euler time marching. So additionally, spatial and temporal discretisation are required - therefore $dx$, $dy$ ($h^2 = dx \\cdot dy$) and $dt$ need to be defined, along with $N_x$, $N_y$ and $T$ - the number of discrete nodes in x and y, and the total integration time-"
   ]
  },
  {
   "cell_type": "code",
   "execution_count": 3,
   "metadata": {},
   "outputs": [],
   "source": [
    "# Defaults for the system - select based on test case 1 - 4\n",
    "def setParameters(test_case=1):\n",
    "    a       = [0.75, 0.75, 0.5, 0.75]\n",
    "    b       = [0.06, 0.06, 0.1, 0.0001]\n",
    "    mu1     = [5.0, 5.0, 5.0, 1.0]\n",
    "    mu2     = [0.0, 0.0, 0.0, 0.01]\n",
    "    epsilon = [50.0, 13.0, 50.0, 12.5]\n",
    "\n",
    "    # Discretization parameters\n",
    "    Nx      = [101, 251, 101, 151]\n",
    "    Ny      = [101, 251, 101, 81]\n",
    "    dx      = 1\n",
    "    dy      = 1\n",
    "    dt      = 0.001\n",
    "    t       = 100\n",
    "\n",
    "    # Reset parameters based on test case\n",
    "    a, b, mu1, mu2, epsilon, Nx, Ny = [i[test_case-1] for i in [a, b, mu1, mu2, epsilon, Nx, Ny]]\n",
    "\n",
    "    # Initialise the X, Y and T discrete arrays\n",
    "    X = np.arange(0, Nx, dx)\n",
    "    Y = np.arange(0, Ny, dy)\n",
    "    T = np.arange(0, t+dt, dt)\n",
    "\n",
    "    print(f\"\\n\\\n",
    "    X = \\n{X} --> Shape = {X.shape}, \\n\\n\\\n",
    "    Y = \\n{Y} --> Shape = {Y.shape}, \\n\\n\\\n",
    "    T = \\n{T} --> Shape = {T.shape}\")\n",
    "\n",
    "    return a, b, mu1, mu2, epsilon, Nx, Ny, dx, dy, dt, t, X, Y, T"
   ]
  },
  {
   "cell_type": "markdown",
   "metadata": {},
   "source": [
    "## 2. Initial Conditions"
   ]
  },
  {
   "cell_type": "markdown",
   "metadata": {},
   "source": [
    "Initial conditions are simple enough - for $y > L_y/2 \\rightarrow u = 1$ and 0 otherwise. For $x < L_x/2 \\rightarrow v = a/2$ and 0 otherwise. \n",
    "\n",
    "Note that $L_x$ and $L_y$ are the lengths of the domain in the x and y directions - $N_x * dx$ and $N_y * dy$ respectively."
   ]
  },
  {
   "cell_type": "code",
   "execution_count": 4,
   "metadata": {},
   "outputs": [],
   "source": [
    "# Initialising U and V - in Python, we can use the np.where() function to query the x and y arrays\n",
    "def setInitialConditions(X, Y, Nx, Ny, a, dx, dy):\n",
    "    U = np.where(Y > Ny*dy/2, 1, 0).astype(np.float32)\n",
    "    U = np.tile(U, (Nx, 1))\n",
    "\n",
    "    # Note that the indicies correspond to the x and y coordinates and so the matrices are not correctly oriented - U needs a 90 degree rotation anticlockwise\n",
    "    U = np.rot90(U, 1)\n",
    "\n",
    "    V = np.where(X < Nx*dx/2, a/2, 0)\n",
    "    V = np.tile(V, (Ny, 1))\n",
    "\n",
    "    # Reality check\n",
    "    print(f\"\\n\\\n",
    "    Initial U = \\n{U} --> Shape = {U.shape} \\n\\n\\\n",
    "    Initial V = \\n{V} --> Shape = {V.shape}\")\n",
    "\n",
    "    return U, V"
   ]
  },
  {
   "cell_type": "markdown",
   "metadata": {},
   "source": [
    "## 3. Central Differencing"
   ]
  },
  {
   "cell_type": "markdown",
   "metadata": {},
   "source": [
    "The temporal derivatives are computed by a first-order finite difference scheme, and the Laplacians over the cartesian space are computed using a second-order finite difference scheme."
   ]
  },
  {
   "cell_type": "markdown",
   "metadata": {},
   "source": [
    "\n",
    "\\begin{aligned}\n",
    "\\frac{u_{i, j}^{n+1}-u_{i, j}^{n}}{\\Delta t} &=\\frac{\\mu_{1}}{h^{2}}\\left(u_{i+1, j}^{n}+u_{i-1, j}^{n}+u_{i, j+1}^{n}+u_{i, j-1}^{n}-4 u_{i, j}^{n}\\right)+f_{1}\\left(u_{i, j}^{n}, v_{i, j}^{n}\\right) \\\\\\\\\n",
    "\\frac{v_{i, j}^{n+1}-v_{i, j}^{n}}{\\Delta t} &=\\frac{\\mu_{2}}{h^{2}}\\left(v_{i+1, j}^{n}+v_{i-1, j}^{n}+v_{i, j+1}^{n}+v_{i, j-1}^{n}-4 v_{i, j}^{n}\\right)+f_{2}\\left(u_{i, j}^{n}, v_{i, j}^{n}\\right) .\n",
    "\\end{aligned}"
   ]
  },
  {
   "cell_type": "markdown",
   "metadata": {},
   "source": [
    "Pre-multiplying by an identity matrix, for instance, returns an unshifted matrix - e.g $U_{i,j}$. If instead 1's are on the superdiagonal - an upper shift matrix - pre-multiplication with $U$ returns $U_{i+1,j}$. Similarly, if 1's are on the subdiagonal - a lower shift matrix - pre-multiplication with $U$ returns $U_{i-1,j}$.\n",
    "\n",
    "To shift matrices left or right, i.e in the $j$ direction, the shift matrix can be post-multipied instead. These shifts are sufficient to design a square [$N_y,\\ N_y$] shift matrix, A, to implement this central differencing scheme on the interior points of the mesh - note that in the case on a non-square mesh, a second square matrix B of size [$N_x,\\ N_x$] is required for post-multiplication, but will have exactly the same form.\n",
    "\n",
    "$$\n",
    "A := \\left[\\begin{array}{ccccccc}0 & \\cdots & \\cdots & \\cdots & \\cdots & 0 \\\\1 & -2 & 1 & & & \\vdots \\\\0 & \\ddots & \\ddots & \\ddots & & \\vdots \\\\\\vdots & & \\ddots & \\ddots & \\ddots & 0 \\\\ \\vdots & & & 1 & -2 & 1 \\\\0 & \\cdots & \\cdots & \\cdots & \\cdots & 0\\end{array}\\right]\n",
    "$$"
   ]
  },
  {
   "cell_type": "markdown",
   "metadata": {},
   "source": [
    "Note the padded rows and columns - in this form, $AU^n$ or $U^nA$ only computes the $x$ and $y$ components of the Laplacian for the interior nodes of the mesh."
   ]
  },
  {
   "cell_type": "code",
   "execution_count": 5,
   "metadata": {},
   "outputs": [],
   "source": [
    "# Matrix A is a shift matrix which transforms U and V to compute the terms in the central finite difference scheme\n",
    "def setMatrixA_interior(Ny):\n",
    "    \n",
    "    # A is a square matrix of size Ny x Ny ---> [Ny x Ny] (A) * [Ny x Nx] (U or V) = [Ny x Nx]\n",
    "    A = np.eye(Ny)\n",
    "    i,j = np.indices(A.shape)\n",
    "\n",
    "    # Populate the diagonals of A\n",
    "    A[i==j] = -2        # Main diagonal\n",
    "    A[i==j-1] = 1       # Superdiagonal\n",
    "    A[i==j+1] = 1       # Subdiagonal\n",
    "\n",
    "    # Reset top and bottom rows of A to 0 - not dealing with the boundaries yet!\n",
    "    A[0,:] = 0\n",
    "    A[-1,:] = 0\n",
    "\n",
    "    # Reality check\n",
    "    # print(f\"A = \\n{A}\")\n",
    "\n",
    "    return A\n",
    "\n",
    "\n",
    "def setMatrixB_interior(Nx):\n",
    "    # Note that this function is only called if the mesh is not square - otherwise, the matrix B points to A\n",
    "\n",
    "    B = np.eye(Nx)\n",
    "    i,j = np.indices(B.shape)\n",
    "\n",
    "    # Populate the diagonals of B\n",
    "    B[i==j] = -2        # Main diagonal\n",
    "    B[i==j-1] = 1       # Superdiagonal\n",
    "    B[i==j+1] = 1       # Subdiagonal\n",
    "\n",
    "    # Reset top and bottom rows of B to 0 - not dealing with the boundaries yet!\n",
    "    B[0,:] = 0\n",
    "    B[-1,:] = 0\n",
    "\n",
    "    # Reality check\n",
    "    # print(f\"B = \\n{B}\")\n",
    "\n",
    "    return B"
   ]
  },
  {
   "cell_type": "markdown",
   "metadata": {},
   "source": [
    "## 4. Neumann Boundary Conditions"
   ]
  },
  {
   "cell_type": "markdown",
   "metadata": {},
   "source": [
    "The shift matrix $A$ must be modified to include the boundaries. A Neumann boundary condition is applied to every boundary in $U$ and $V$ ($x=0, x=L_x, y=0, y=L_y$).\n",
    "\n",
    "This means the normal derivatives of $U$ and $V$ are zero at the boundaries - e.g at $x = 0$, $\\frac{\\partial{U}}{\\partial{x}}$ and $\\frac{\\partial{V}}{\\partial{x}}$ are zero. In discrete form, this is given by-"
   ]
  },
  {
   "cell_type": "markdown",
   "metadata": {},
   "source": [
    "$\\begin{aligned}\n",
    "\\left(u_{1, j}^{n}-u_{-1, j}^{n}\\right) / h = 0 ; \\quad u_{-1, j}^{n} = u_{0, j}^{n}\n",
    "\\end{aligned}$\n",
    "\n",
    "$\\begin{aligned}\n",
    "\\therefore \\frac{u_{0, j}^{n+1}-u_{0, j}^{n}}{\\Delta t} = \\frac{\\mu_{1}}{h^{2}}\\left(u_{1, j}^{n}+u_{0, j}^{n}+u_{0, j+1}^{n}+u_{0, j-1}^{n}-2 u_{0, j}^{n}\\right)+f_{1}\\left(u_{0, j}^{n}, v_{i, j}^{n}\\right)\n",
    "\\end{aligned}$\n"
   ]
  },
  {
   "cell_type": "markdown",
   "metadata": {},
   "source": [
    "The modified shift matrix is adjusted to account for the updated central difference scheme at the boundaries. Note that it is still a symmetric banded matrix-"
   ]
  },
  {
   "cell_type": "markdown",
   "metadata": {},
   "source": [
    "$$\n",
    "A := \\left[\\begin{array}{ccccccc}-1 & 1 & 0 & \\cdots & \\cdots & 0 \\\\1 & -2 & 1 & & & \\vdots \\\\0 & \\ddots & \\ddots & \\ddots & & \\vdots \\\\\\vdots & & \\ddots & \\ddots & \\ddots & 0 \\\\ \\vdots & & & 1 & -2 & 1 \\\\0 & \\cdots & \\cdots & 0 & 1 & -1\\end{array}\\right]\n",
    "$$"
   ]
  },
  {
   "cell_type": "code",
   "execution_count": 6,
   "metadata": {},
   "outputs": [],
   "source": [
    "def setMatrixA(Ny):\n",
    "\n",
    "    # First set the interior matrix\n",
    "    A = setMatrixA_interior(Ny)\n",
    "\n",
    "    # Add the boundary conditions\n",
    "    A[0,0] = -1\n",
    "    A[0,1] = 1\n",
    "    A[-1,-1] = -1\n",
    "    A[-1,-2] = 1\n",
    "\n",
    "    # Reality check\n",
    "    # print(f\"A = \\n{A}\")\n",
    "    return A\n",
    "\n",
    "\n",
    "def setMatrixB(Nx):\n",
    "    # Note that this function is only called if the mesh is not square - otherwise, the matrix B points to A\n",
    "\n",
    "    # First set the interior matrix\n",
    "    B = setMatrixB_interior(Nx)\n",
    "\n",
    "    # Add the boundary conditions\n",
    "    B[0,0] = -1\n",
    "    B[0,1] = 1\n",
    "    B[-1,-1] = -1\n",
    "    B[-1,-2] = 1\n",
    "\n",
    "    # Reality check\n",
    "    # print(f\"B = \\n{B}\")\n",
    "    return B"
   ]
  },
  {
   "cell_type": "markdown",
   "metadata": {},
   "source": [
    "## 5. Time Integration"
   ]
  },
  {
   "cell_type": "markdown",
   "metadata": {},
   "source": [
    "Finally, forward Euler time marching is implemented using a simple loop over the time steps-"
   ]
  },
  {
   "cell_type": "markdown",
   "metadata": {},
   "source": [
    "$\\begin{aligned}\n",
    "u_{i,j}^{n+1} = u_{i,j}^{n} + \\frac{u_{i, j}^{n+1}-u_{i, j}^{n}}{\\Delta t} \\cdot dt\n",
    "\\end{aligned}$"
   ]
  },
  {
   "cell_type": "code",
   "execution_count": 7,
   "metadata": {},
   "outputs": [],
   "source": [
    "def time_march(U, V, A, dt, T, a, b, epsilon, mu1, mu2, rect=0):\n",
    "    \n",
    "    if rect != 0:   # If the mesh is not square, we need to set the matrix B - rect contains Nx\n",
    "        \n",
    "        B = setMatrixB(rect)\n",
    "    \n",
    "        # Loop through the time steps\n",
    "        for _ in T:\n",
    "\n",
    "            # Evaluate the reaction terms\n",
    "            f1 = _f1(U, V, epsilon, a, b)\n",
    "            f2 = _f2(U, V)\n",
    "\n",
    "            # Perform the forward Euler step\n",
    "            U += dt * (mu1 * (A.dot(U) + U.dot(B)) + f1)\n",
    "            V += dt * (mu2 * (A.dot(V) + V.dot(B)) + f2)\n",
    "\n",
    "    \n",
    "    else:   # If the mesh is square, we can use the matrix A for both xx and yy Lapacian terms\n",
    "       \n",
    "        # Loop through the time steps\n",
    "        for _ in T:\n",
    "\n",
    "            # Evaluate the reaction terms\n",
    "            f1 = _f1(U, V, epsilon, a, b)\n",
    "            f2 = _f2(U, V)\n",
    "\n",
    "            # Perform the forward Euler step\n",
    "            U += dt * (mu1 * (A.dot(U) + U.dot(A)) + f1)\n",
    "            V += dt * (mu2 * (A.dot(V) + V.dot(A)) + f2)\n",
    "\n",
    "    return U, V"
   ]
  },
  {
   "cell_type": "markdown",
   "metadata": {},
   "source": [
    "## Run Program!"
   ]
  },
  {
   "cell_type": "code",
   "execution_count": 15,
   "metadata": {},
   "outputs": [
    {
     "name": "stdout",
     "output_type": "stream",
     "text": [
      "\n",
      "    X = \n",
      "[  0   1   2   3   4   5   6   7   8   9  10  11  12  13  14  15  16  17\n",
      "  18  19  20  21  22  23  24  25  26  27  28  29  30  31  32  33  34  35\n",
      "  36  37  38  39  40  41  42  43  44  45  46  47  48  49  50  51  52  53\n",
      "  54  55  56  57  58  59  60  61  62  63  64  65  66  67  68  69  70  71\n",
      "  72  73  74  75  76  77  78  79  80  81  82  83  84  85  86  87  88  89\n",
      "  90  91  92  93  94  95  96  97  98  99 100 101 102 103 104 105 106 107\n",
      " 108 109 110 111 112 113 114 115 116 117 118 119 120 121 122 123 124 125\n",
      " 126 127 128 129 130 131 132 133 134 135 136 137 138 139 140 141 142 143\n",
      " 144 145 146 147 148 149 150] --> Shape = (151,), \n",
      "\n",
      "    Y = \n",
      "[ 0  1  2  3  4  5  6  7  8  9 10 11 12 13 14 15 16 17 18 19 20 21 22 23\n",
      " 24 25 26 27 28 29 30 31 32 33 34 35 36 37 38 39 40 41 42 43 44 45 46 47\n",
      " 48 49 50 51 52 53 54 55 56 57 58 59 60 61 62 63 64 65 66 67 68 69 70 71\n",
      " 72 73 74 75 76 77 78 79 80] --> Shape = (81,), \n",
      "\n",
      "    T = \n",
      "[0.0000e+00 1.0000e-03 2.0000e-03 ... 9.9998e+01 9.9999e+01 1.0000e+02] --> Shape = (100001,)\n",
      "\n",
      "    Initial U = \n",
      "[[1. 1. 1. ... 1. 1. 1.]\n",
      " [1. 1. 1. ... 1. 1. 1.]\n",
      " [1. 1. 1. ... 1. 1. 1.]\n",
      " ...\n",
      " [0. 0. 0. ... 0. 0. 0.]\n",
      " [0. 0. 0. ... 0. 0. 0.]\n",
      " [0. 0. 0. ... 0. 0. 0.]] --> Shape = (81, 151) \n",
      "\n",
      "    Initial V = \n",
      "[[0.375 0.375 0.375 ... 0.    0.    0.   ]\n",
      " [0.375 0.375 0.375 ... 0.    0.    0.   ]\n",
      " [0.375 0.375 0.375 ... 0.    0.    0.   ]\n",
      " ...\n",
      " [0.375 0.375 0.375 ... 0.    0.    0.   ]\n",
      " [0.375 0.375 0.375 ... 0.    0.    0.   ]\n",
      " [0.375 0.375 0.375 ... 0.    0.    0.   ]] --> Shape = (81, 151)\n",
      "\n",
      "U = \n",
      "[[1. 1. 1. ... 1. 1. 1.]\n",
      " [1. 1. 1. ... 1. 1. 1.]\n",
      " [1. 1. 1. ... 1. 1. 1.]\n",
      " ...\n",
      " [0. 0. 0. ... 0. 0. 0.]\n",
      " [0. 0. 0. ... 0. 0. 0.]\n",
      " [0. 0. 0. ... 0. 0. 0.]] --> Shape = (81, 151), \n",
      "\n",
      "V = \n",
      "[[0.375 0.375 0.375 ... 0.    0.    0.   ]\n",
      " [0.375 0.375 0.375 ... 0.    0.    0.   ]\n",
      " [0.375 0.375 0.375 ... 0.    0.    0.   ]\n",
      " ...\n",
      " [0.375 0.375 0.375 ... 0.    0.    0.   ]\n",
      " [0.375 0.375 0.375 ... 0.    0.    0.   ]\n",
      " [0.375 0.375 0.375 ... 0.    0.    0.   ]] --> Shape = (81, 151), \n",
      "\n",
      "A = \n",
      "[[-1.  1.  0. ...  0.  0.  0.]\n",
      " [ 1. -2.  1. ...  0.  0.  0.]\n",
      " [ 0.  1. -2. ...  0.  0.  0.]\n",
      " ...\n",
      " [ 0.  0.  0. ... -2.  1.  0.]\n",
      " [ 0.  0.  0. ...  1. -2.  1.]\n",
      " [ 0.  0.  0. ...  0.  1. -1.]] --> Shape = (81, 81), \n",
      "\n",
      "Is B required? --> True, \n",
      "\n",
      "dt = \n",
      "0.001 \n",
      "\n",
      "T = \n",
      "[0.0000e+00 1.0000e-03 2.0000e-03 ... 9.9998e+01 9.9999e+01 1.0000e+02] --> Shape = (100001,), \n",
      "\n",
      "a = \n",
      "0.75, \n",
      "\n",
      "b = \n",
      "0.0001 \n",
      "\n",
      "epsilon = \n",
      "12.5 \n",
      "\n",
      "mu1 = \n",
      "1.0 \n",
      "\n",
      "mu2 = \n",
      "0.01\n"
     ]
    }
   ],
   "source": [
    "# Program starts here! First set parameters...\n",
    "test_case = 4\n",
    "a, b, mu1, mu2, epsilon, Nx, Ny, dx, dy, dt, t, X, Y, T = setParameters(test_case)\n",
    "\n",
    "# Set the initial conditions\n",
    "U, V = setInitialConditions(X, Y, Nx, Ny, a, dx, dy)\n",
    "\n",
    "# Build the shift matrix A\n",
    "A = setMatrixA(Ny)\n",
    "\n",
    "# Build the shift matrix B (if the mesh is not square)\n",
    "if Nx == Ny:    rect = 0\n",
    "else:           rect = Nx\n",
    "\n",
    "# Final check on U, V, A, dt and T\n",
    "print(f\"\\n\\\n",
    "U = \\n{U} --> Shape = {U.shape}, \\n\\n\\\n",
    "V = \\n{V} --> Shape = {V.shape}, \\n\\n\\\n",
    "A = \\n{A} --> Shape = {A.shape}, \\n\\n\\\n",
    "Is B required? --> {rect != 0}, \\n\\n\\\n",
    "dt = \\n{dt} \\n\\n\\\n",
    "T = \\n{T} --> Shape = {T.shape}, \\n\\n\\\n",
    "a = \\n{a}, \\n\\n\\\n",
    "b = \\n{b} \\n\\n\\\n",
    "epsilon = \\n{epsilon} \\n\\n\\\n",
    "mu1 = \\n{mu1} \\n\\n\\\n",
    "mu2 = \\n{mu2}\")\n",
    "\n",
    "# Iterate through time steps\n",
    "U, V = time_march(U, V, A, dt, T, a, b, epsilon, mu1, mu2, rect)"
   ]
  },
  {
   "cell_type": "code",
   "execution_count": 16,
   "metadata": {},
   "outputs": [
    {
     "data": {
      "image/png": "[encoded data removed]",
      "text/plain": [
       "<Figure size 1440x1440 with 2 Axes>"
      ]
     },
     "metadata": {
      "needs_background": "light"
     },
     "output_type": "display_data"
    }
   ],
   "source": [
    "# Plot the final solution\n",
    "plt.figure(figsize=(20,20))\n",
    "plt.imshow(U, cmap='magma', interpolation='nearest')\n",
    "plt.colorbar(fraction=0.046, pad=0.04)\n",
    "\n",
    "# Save the final solution to figs/final_solution.png\n",
    "plt.savefig(f'figs/final_solution_test_{test_case}.png', dpi=300)\n",
    "plt.show()"
   ]
  },
  {
   "cell_type": "markdown",
   "metadata": {},
   "source": [
    "As you can see, the solution closely matches the solution presented in the brief - I am therefore confident that the implementation is correct and will proceed to converting this to parallelised C++ code!"
   ]
  }
 ],
 "metadata": {
  "interpreter": {
   "hash": "10aa27e31ec2ae1f1c0f488a4921120dd9fa9c7fa053d0aa12359cc5adfc803f"
  },
  "kernelspec": {
   "display_name": "Python 3.9.7 ('base')",
   "language": "python",
   "name": "python3"
  },
  "language_info": {
   "codemirror_mode": {
    "name": "ipython",
    "version": 3
   },
   "file_extension": ".py",
   "mimetype": "text/x-python",
   "name": "python",
   "nbconvert_exporter": "python",
   "pygments_lexer": "ipython3",
   "version": "3.9.7"
  },
  "orig_nbformat": 4
 },
 "nbformat": 4,
 "nbformat_minor": 2
}
